{
  "cells": [
    {
      "cell_type": "markdown",
      "metadata": {
        "id": "8GJJnjMXBH8K"
      },
      "source": [
        "**Taller 1**\n",
        "\n",
        "No de identificación, Nombre, Apeliidos, Direccion, Telefono, Edad, Estado Civil, Numero de hijos, Estatura en centimetros, Fecha de contratación (dia/mes/año), Sueldo básico, Dias laborados.\n"
      ]
    },
    {
      "cell_type": "code",
      "execution_count": null,
      "metadata": {
        "id": "FVGfkxxtCNhn",
        "colab": {
          "base_uri": "https://localhost:8080/",
          "height": 269
        },
        "outputId": "deebbe7b-d3ef-4a38-8387-ea07119f6d35"
      },
      "outputs": [
        {
          "output_type": "stream",
          "name": "stdout",
          "text": [
            "Digite su nombre o usuario:      jonatan\n",
            "Hola jonatan   digita tus datos personales aquí por favor   \n"
          ]
        },
        {
          "output_type": "error",
          "ename": "NameError",
          "evalue": "ignored",
          "traceback": [
            "\u001b[0;31m---------------------------------------------------------------------------\u001b[0m",
            "\u001b[0;31mNameError\u001b[0m                                 Traceback (most recent call last)",
            "\u001b[0;32m<ipython-input-7-a60c78857add>\u001b[0m in \u001b[0;36m<cell line: 7>\u001b[0;34m()\u001b[0m\n\u001b[1;32m      5\u001b[0m \u001b[0msaludar\u001b[0m\u001b[0;34m(\u001b[0m\u001b[0mnombre\u001b[0m\u001b[0;34m)\u001b[0m\u001b[0;34m\u001b[0m\u001b[0;34m\u001b[0m\u001b[0m\n\u001b[1;32m      6\u001b[0m \u001b[0;34m\u001b[0m\u001b[0m\n\u001b[0;32m----> 7\u001b[0;31m \u001b[0;32mwhile\u001b[0m \u001b[0mresp\u001b[0m \u001b[0;34m==\u001b[0m \u001b[0;34m\"si\"\u001b[0m \u001b[0;32mor\u001b[0m \u001b[0mresp\u001b[0m \u001b[0;34m==\u001b[0m \u001b[0;34m\"s\"\u001b[0m\u001b[0;34m:\u001b[0m\u001b[0;34m\u001b[0m\u001b[0;34m\u001b[0m\u001b[0m\n\u001b[0m\u001b[1;32m      8\u001b[0m \u001b[0;34m\u001b[0m\u001b[0m\n\u001b[1;32m      9\u001b[0m   \u001b[0mId\u001b[0m \u001b[0;34m=\u001b[0m \u001b[0minput\u001b[0m\u001b[0;34m(\u001b[0m\u001b[0;34m\"digite su numero de identificación   \"\u001b[0m\u001b[0;34m)\u001b[0m\u001b[0;34m\u001b[0m\u001b[0;34m\u001b[0m\u001b[0m\n",
            "\u001b[0;31mNameError\u001b[0m: name 'resp' is not defined"
          ]
        }
      ],
      "source": [
        "def saludar(nom):\n",
        "  print(\"Hola \"  + nom +  \"   digita tus datos personales aquí por favor   \")\n",
        "\n",
        "nombre = input(\"Digite su nombre o usuario:      \")\n",
        "saludar(nombre)\n",
        "\n",
        "while resp == \"si\" or resp == \"s\":\n",
        "  \n",
        "  Id = input(\"digite su numero de identificación   \")\n",
        "  Nombre = input(\"digite su Nombre   \")\n",
        "  Apellidos = input(\"digite sus Apellidos   \")\n",
        "  Dirección = input(\"digite su Dirección   \")\n",
        "  Telefono = input(\"digite su Telefono   \")\n",
        "  Edad = input(\"digite su Edad    \")\n",
        "  Estadocivil = input(\"digite su Estado civil   \")\n",
        "  Numerodehijos = input(\"digite el Numero de hijos que tiene    \")\n",
        "  Estatura = input(\"digite su estatura en centimetros    \")\n",
        "  Fechadecontratación = input(\"digite su fecha de contratación    \")\n",
        "  meslaborado = input(\"digite el mes a consultar\")\n",
        "  Diaslaborados = input(\"digite el numero de dias laborados a consultar    \")\n",
        "  Sueldobasico = float(input(\"digite su sueldo basicó    \"))\n",
        "  if Sueldobasico <=2000000:\n",
        "    sueldo = Sueldobasico\n",
        "    bono = Sueldobasico *0.3\n",
        "    total = sueldo + bono\n",
        "    print(\"tiene bonificación del 30% sobre el sueldo base devengado = ${:,.0f} y el total a pagar es = ${:,.0f}\".format(sueldo, total))\n",
        "  else:\n",
        "      print(\"no aplica para bonificación\")\n",
        "  resp = input(\"¿Desea diligenciar otros datos?\")\n"
      ]
    },
    {
      "cell_type": "markdown",
      "metadata": {
        "id": "DWl-ktAnJx-r"
      },
      "source": [
        "**Taller 2**:\n",
        "\n",
        "Dando continuidad con la primera entrega del proyecto, en esta oportunidad el estudiante debe realizar las siguientes validaciones utilizando la sentencia condicional IF.\n",
        "\n",
        "Si el empleado es mayor de 55 años disfrutará de un bono de prepensión correspondiente al 5% de su sueldo básico.\n",
        "\n",
        "Si el empleado es casado y tiene hijos se le otorgará un paseo cada diciembre\n",
        "\n",
        "Si el sueldo básico está entre 1000000 y 1500000 tendrá una comisión del 2% sobre el valor del sueldo; Si el sueldo básico está entre 1500001 y 2000000 tendrá una comisión del 5% sobre el valor del sueldo; para todos los demás casos no habrá comisión.\n",
        "\n",
        "Si el empleado trabajó más de 20 días al mes y su sueldo es menor a 1000000 tendrá derecho a un bono de alimentación."
      ]
    },
    {
      "cell_type": "code",
      "execution_count": null,
      "metadata": {
        "colab": {
          "background_save": true
        },
        "id": "nlCZBc3aJ4cO"
      },
      "outputs": [],
      "source": [
        "def saludar(nom):\n",
        "  print(\"Hola \"  + nom +  \"   digita tus datos personales aquí por favor   \")\n",
        "\n",
        "nombre = input(\"Digite su nombre o usuario:      \")\n",
        "saludar(nombre)\n",
        "\n",
        "\n",
        "while resp == \"si\" or resp == \"s\":\n",
        " empleado1 = float (input(\"digite su edad:   \"))\n",
        " empleado1 =  int (input(\"digite estado civil:    \"))\n",
        " sueldo = int (input(\"digite su sueldo:   \"))\n",
        " mes = float (input( \"bono alimenatción:    \"))\n",
        "\n",
        " if empleado1 >=55:\n",
        "   print(\"gana bono prepensión correspondiente al 5% de su sueldo básico\")\n",
        " else:\n",
        "    print(\"no aplica\")\n",
        "\n",
        " if empleado1 in \"casado con hijos\":\n",
        "   print(\"se le otorgará un paseo cada diciembre\")\n",
        " else:\n",
        "   print(\"no aplica\")\n",
        "\n",
        " if sueldo <=1500000:\n",
        "    sueldo = sueldo\n",
        "    bono = sueldo *0.02\n",
        "    total= bono + sueldo\n",
        "    print(\"tiene bonificación del 2% sobre el sueldo base devengado = ${:,.0f} y el total a pagar es = ${:,.0f}\".format(sueldo, total))\n",
        " else:\n",
        "    print(\"no habrá comisión\")\n",
        "\n",
        " if sueldo <= 2000000:\n",
        "   sueldo = sueldo\n",
        "   bono = sueldo *0.05\n",
        "   total= bono + sueldo\n",
        "   print(\"tiene bonificación del 5% sobre el sueldo base devengado = ${:,.0f} y el total a pagar es = ${:,.0f}\".format(sueldo, total))\n",
        " else:\n",
        "   print(\"no habrá comisión\")\n",
        "\n",
        " if mes <=12:\n",
        "   print(\"bono alimentación\")\n",
        " else:\n",
        "   print(\"no aplica\")\n",
        "\n",
        " resp = input(\"¿Desea diligenciar otros datos?\")"
      ]
    },
    {
      "cell_type": "markdown",
      "metadata": {
        "id": "OLZRsxSjAnLC"
      },
      "source": [
        "Se necesita un sistema que pida un sueldo de un\n",
        "trabajador, si el sueldo es mayor a 655000, no tedrá\n",
        "ninguna bonificación, pero si es menor tiene bonificación\n",
        "del 4%. Al final se desea saber el total del sueldo con\n",
        "o sin bonificación. Preguntar si desea ejecutar de nuevo\n",
        "el programa con el ciclo while."
      ]
    },
    {
      "cell_type": "code",
      "execution_count": null,
      "metadata": {
        "id": "OgC333lRAwJg"
      },
      "outputs": [],
      "source": [
        "resp = \"aplica\"\n",
        "while resp == \"aplica\" or \"si\" or \"si aplica\" or \"cuanto es la bonificación\":\n",
        "\n",
        " sueldo = float (input(\"digite su sueldo\"))\n",
        "\n",
        " if sueldo <= 655000:\n",
        "   sueldo = sueldo\n",
        "   bono = sueldo *0.04\n",
        "   total= bono + sueldo\n",
        "   print(\"tiene bonificación del 4% sobre el sueldo base devengado = ${:,.0f} y el total a pagar es = ${:,.0f}\".format(sueldo, total))\n",
        " else:\n",
        "   print(\"No tiene bonificación, el total a pagar es= ${:,.0f}\".format(sueldo))\n",
        "\n",
        " resp = input(\"¿Desea cálcular otro sueldo?\")"
      ]
    },
    {
      "cell_type": "markdown",
      "metadata": {
        "id": "TyC7H1xHiJqM"
      },
      "source": [
        "\n",
        "Escribir un programa que pregunte al usuario su edad y\n",
        "muestre por pantalla todos los años que ha cumplido\n",
        "(desde 1 hasta su edad). ciclo for\n",
        "\n"
      ]
    },
    {
      "cell_type": "code",
      "execution_count": 1,
      "metadata": {
        "id": "ySPyXUMjiQNw",
        "colab": {
          "base_uri": "https://localhost:8080/",
          "height": 130
        },
        "outputId": "6fc512a4-33ea-42d0-a903-211e038b4ba2"
      },
      "outputs": [
        {
          "output_type": "error",
          "ename": "IndentationError",
          "evalue": "ignored",
          "traceback": [
            "\u001b[0;36m  File \u001b[0;32m\"<ipython-input-1-4edee07fcec7>\"\u001b[0;36m, line \u001b[0;32m8\u001b[0m\n\u001b[0;31m    acu = edad\u001b[0m\n\u001b[0m    ^\u001b[0m\n\u001b[0;31mIndentationError\u001b[0m\u001b[0;31m:\u001b[0m unexpected indent\n"
          ]
        }
      ],
      "source": [
        "edad = int (input(\"digite su edad aquí: \"))\n",
        "\n",
        "for i in range(0,30,1):\n",
        "  print(i, \" x \", edad, \" = \", edad * i)\n",
        "\n",
        "acu = edad + i\n",
        "\n",
        " acu = edad\n",
        "  print(f\"El total de la suma de los años cumplidos es= {acu}\")"
      ]
    },
    {
      "cell_type": "markdown",
      "metadata": {
        "id": "-y8RmYOjBDyU"
      },
      "source": []
    }
  ],
  "metadata": {
    "colab": {
      "provenance": []
    },
    "kernelspec": {
      "display_name": "Python 3",
      "name": "python3"
    },
    "language_info": {
      "name": "python"
    }
  },
  "nbformat": 4,
  "nbformat_minor": 0
}